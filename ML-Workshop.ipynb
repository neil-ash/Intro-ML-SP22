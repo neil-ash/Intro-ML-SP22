{
 "cells": [
  {
   "cell_type": "markdown",
   "metadata": {},
   "source": [
    "# Introduction to Machine Learning\n",
    "\n",
    "The first cells are already filled in. They import packages, load the data, and include functions for data visualization. "
   ]
  },
  {
   "cell_type": "code",
   "execution_count": null,
   "metadata": {},
   "outputs": [],
   "source": [
    "# Import packages\n",
    "import numpy as np\n",
    "import pandas as pd\n",
    "import matplotlib.pyplot as plt\n",
    "from matplotlib.colors import ListedColormap\n",
    "from matplotlib import style; style.use('ggplot')"
   ]
  },
  {
   "cell_type": "code",
   "execution_count": null,
   "metadata": {},
   "outputs": [],
   "source": [
    "# Load data\n",
    "data = pd.read_csv('exam-scores.csv')\n",
    "data.head()"
   ]
  },
  {
   "cell_type": "code",
   "execution_count": null,
   "metadata": {},
   "outputs": [],
   "source": [
    "# Set up features and labels\n",
    "X = data.values[:, [0, 1]]\n",
    "y = data.values[:, -1]\n",
    "m = y.size"
   ]
  },
  {
   "cell_type": "code",
   "execution_count": null,
   "metadata": {},
   "outputs": [],
   "source": [
    "def plot_data():\n",
    "    \"\"\" Plots original data (admitted: green, denied: red) \"\"\"\n",
    "    plt.rcParams['figure.figsize'] = [6, 5]\n",
    "    plt.scatter(X[:, 0], X[:, 1], c=y, cmap='RdYlGn')\n",
    "    plt.title('Exam Scores vs Admittance')\n",
    "    plt.xlabel('Exam 1 Score')\n",
    "    plt.ylabel('Exam 2 Score')\n",
    "    plt.show()\n",
    "    return None"
   ]
  },
  {
   "cell_type": "code",
   "execution_count": null,
   "metadata": {},
   "outputs": [],
   "source": [
    "plot_data()"
   ]
  },
  {
   "cell_type": "code",
   "execution_count": null,
   "metadata": {},
   "outputs": [],
   "source": [
    "def decision_boundary(clf):\n",
    "    \"\"\" Plots decision boundary given a classifier with original data overlaid \"\"\"\n",
    "    plt.rcParams['figure.figsize'] = [6, 5]\n",
    "    plt.xlim(min(X[:, 0]) - 5, max(X[:, 0]) + 5)\n",
    "    plt.ylim(min(X[:, 1]) - 5, max(X[:, 1]) + 5)\n",
    "    X1, X2 = np.meshgrid(np.arange(start=min(X[:, 0]), stop=max(X[:, 0]), step=0.5),\n",
    "                         np.arange(start=min(X[:, 1]), stop=max(X[:, 1]), step=0.5))\n",
    "    plt.contourf(X1, X2, clf.predict(np.array([X1.ravel(), X2.ravel()]).T).reshape(X1.shape),\n",
    "                 alpha=0.75, cmap=ListedColormap(('lightpink', 'lightgreen')))\n",
    "    plot_data()\n",
    "    return None"
   ]
  },
  {
   "cell_type": "markdown",
   "metadata": {},
   "source": [
    "## Your turn! Fit some classifiers and test them out\n",
    "In every cell, you should:\n",
    "- Import the classifier from sklearn\n",
    "- Create an instance of the classifier\n",
    "- Fit the classifier\n",
    "- Make predictions with the decision boundary function"
   ]
  },
  {
   "cell_type": "code",
   "execution_count": null,
   "metadata": {},
   "outputs": [],
   "source": [
    "# K-nearest neighbors"
   ]
  },
  {
   "cell_type": "code",
   "execution_count": null,
   "metadata": {},
   "outputs": [],
   "source": [
    "# Logistic regression"
   ]
  },
  {
   "cell_type": "code",
   "execution_count": null,
   "metadata": {},
   "outputs": [],
   "source": [
    "# SVM"
   ]
  },
  {
   "cell_type": "code",
   "execution_count": null,
   "metadata": {},
   "outputs": [],
   "source": [
    "# Decision tree"
   ]
  },
  {
   "cell_type": "markdown",
   "metadata": {},
   "source": [
    "The next cell will not run unless the GraphViz package is installed. This may not come with the base version of anaconda. After the workshop, you can install GraphViz using the following command in terminal:\n",
    "```console\n",
    "conda install -c anaconda python-graphviz \n",
    "```\n",
    "If the following cell does not run, just follow along on screen!"
   ]
  },
  {
   "cell_type": "code",
   "execution_count": null,
   "metadata": {},
   "outputs": [],
   "source": [
    "# To see tree diagram\n",
    "from sklearn.tree import export_graphviz\n",
    "import graphviz\n",
    "dot_data = export_graphviz(tree, out_file=None, \n",
    "                           feature_names=['Exam 1', 'Exam 2'], \n",
    "                           class_names=['Denied', 'Admitted'],\n",
    "                           filled=True, rounded=True, special_characters=True,\n",
    "                           impurity=False, precision=1) \n",
    "graphviz.Source(dot_data)"
   ]
  },
  {
   "cell_type": "code",
   "execution_count": null,
   "metadata": {
    "scrolled": true
   },
   "outputs": [],
   "source": [
    "# Neural network"
   ]
  },
  {
   "cell_type": "markdown",
   "metadata": {},
   "source": [
    "## Feedback\n",
    "\n",
    "Please let me know how I can make this workshop better!\n",
    "\n",
    "**Feedback form: https://forms.gle/68LZD6hnWLf8gkjK6**"
   ]
  }
 ],
 "metadata": {
  "kernelspec": {
   "display_name": "Python 3 (ipykernel)",
   "language": "python",
   "name": "python3"
  },
  "language_info": {
   "codemirror_mode": {
    "name": "ipython",
    "version": 3
   },
   "file_extension": ".py",
   "mimetype": "text/x-python",
   "name": "python",
   "nbconvert_exporter": "python",
   "pygments_lexer": "ipython3",
   "version": "3.7.13"
  }
 },
 "nbformat": 4,
 "nbformat_minor": 2
}
